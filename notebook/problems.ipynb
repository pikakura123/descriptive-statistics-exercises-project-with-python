{
 "cells": [
  {
   "cell_type": "markdown",
   "id": "ac622319",
   "metadata": {},
   "source": [
    "# Descriptive statistics problems"
   ]
  },
  {
   "cell_type": "markdown",
   "id": "5e0ab0d5",
   "metadata": {},
   "source": [
    "### Exercise 1\n",
    "\n",
    "We will use NumPy to obtain information to describe statistically.\n",
    "\n",
    "- Generate an array of 100 elements following a normal distribution.\n",
    "- Generate an array of 100 elements following a chi-square distribution with 3 degrees of freedom.\n",
    "- Calculate the main metrics and statistical measures that best describe the two vectors."
   ]
  },
  {
   "cell_type": "code",
   "execution_count": null,
   "id": "34720ab6",
   "metadata": {},
   "outputs": [
    {
     "name": "stdout",
     "output_type": "stream",
     "text": [
      "[ 0.56947508  2.14415699  1.33026324  0.44159078  0.40283288  1.27678039\n",
      " -1.07097663  0.98259199 -0.01303437  0.28187589 -0.08531051  1.48865421\n",
      " -1.06919289 -1.16379031 -0.13896976  2.13631471 -1.02164441  0.8362792\n",
      " -0.17503463  2.12206139 -1.40890545  0.446581   -0.62346556  0.31590317\n",
      " -0.87615782  0.92158519 -0.06998847  0.55226083  0.01959235 -0.40303851\n",
      "  0.40653432  0.34106445 -0.24628116  0.19957423 -1.64830982 -0.54695377\n",
      " -0.42147577  0.12666814  2.3476873  -1.91180038 -0.09374309 -0.34468434\n",
      "  1.60876409 -0.84114218 -1.22632809 -0.89815473 -1.84687124 -1.65362393\n",
      "  1.8535627  -0.40727306  0.9114969  -0.43540912 -1.7043581   1.53930402\n",
      "  1.06780765 -1.28879149 -1.26943386 -1.49312476  1.36631705  0.64334796\n",
      " -1.57744634  0.85828616  0.88309463 -0.42280633 -0.51911601 -0.22822163\n",
      "  0.02250758  0.06618611  1.57983032 -0.46971204  1.44341364  0.54675449\n",
      "  0.6431427  -1.60164363  0.33817697  0.27225388  1.42841249 -0.57320174\n",
      "  1.13462629 -0.77592533  0.05831282  1.76704162 -1.02418936  0.50998171\n",
      "  0.10996737 -0.353438    1.35620302 -0.30419202  0.90217489  0.68803639\n",
      " -0.682304   -0.6837545  -0.47749815  0.54486825 -0.58165694  0.1234403\n",
      " -1.38812805 -1.14799856 -0.16382048  1.11087034]\n",
      "[ 3.07366441  3.60401096  2.74407538  0.60146489  8.16511706  5.04312971\n",
      "  3.46278094  1.44883125  5.17369478  3.73970194  5.22961766  0.03166669\n",
      "  0.83664818  4.8120058   3.82591413  2.22913788  7.56716309  0.45405186\n",
      "  4.42980429  1.47158499  7.27794867  2.16394937  3.23566184  3.05417293\n",
      "  1.50645029  2.47485293  0.24920505  3.14352338  1.93310887  1.86186633\n",
      "  0.0376799   0.52798681  4.01015941  0.84057162  5.03286851  0.07623171\n",
      "  1.78638175  1.9042282   4.17088625  9.63875811  9.35734205  3.25588727\n",
      "  1.02201821  2.82664142  0.76733353  6.61638869  2.21769192  2.45771772\n",
      "  8.56935502  1.50027672  2.00776032  0.81376476 12.20902607  0.47077691\n",
      "  2.87185973  2.51944616  5.51181412  2.63369234  1.73379321  0.56383679\n",
      "  4.31096671  5.71203097  0.80989455  2.13378871  5.61563487  2.17436063\n",
      "  0.53022215  4.22883132  9.75548281  0.22354224  0.39940648  2.02919399\n",
      "  6.81373882  0.46276568  2.77396267  3.25135343  3.63644816  0.32594292\n",
      "  1.80788386  0.31379754  3.39131598  1.05581036  1.74849182  1.44436563\n",
      "  3.29633403  5.12909544  0.97974486  5.11997223  2.4918831   7.43173573\n",
      "  0.21070543  0.50093921  3.62579945  0.70251985  2.6499198   4.33272603\n",
      "  6.78039107  4.80823379  2.45761803  3.39416239]\n",
      "0.056961887475804864 0.021049965564099368 0.5694750789163071 1.0655521451900483 1.0322558525821242\n"
     ]
    }
   ],
   "source": [
    "# TODO\n",
    "\n",
    "import numpy as np\n",
    "from scipy.stats import norm\n",
    "import statistics as stats\n",
    "from scipy.stats import skew\n",
    "\n",
    "lista = np.random.normal(size =100)\n",
    "chi_square = np.random.chisquare(df = 3, size = 100)\n",
    "\n",
    "print(lista)\n",
    "print(chi_square)\n",
    "\n",
    "#metricas de listas\n",
    "skewness = skew(lista)\n",
    "mean1= stats.mean(lista)\n",
    "median1 = stats.median(lista)\n",
    "mode1 = stats.mode(lista)\n",
    "varianza1 = stats.variance(lista)\n",
    "desviacion_std1 = stats.stdev(lista)\n",
    "print(mean1, median1, mode1, varianza1, desviacion_std1, skewness)\n",
    "\n",
    "skewness_chi = skew(chi_square)\n",
    "mean_chi = stats.mean(chi_square)\n",
    "median_chi = stats.median(chi_square)\n",
    "mode_chi = stats.mode(chi_square)\n",
    "varianza_chi = stats.variance(chi_square)\n",
    "desviacion_chi = stats.stdev(chi_square)\n",
    "print(mean_chi, median_chi, mode_chi, varianza_chi, desviacion_chi, skewness_chi)\n",
    "\n",
    "#Agregue las metricas de chi y skewness\n",
    "\n"
   ]
  },
  {
   "cell_type": "markdown",
   "id": "46c70c3d",
   "metadata": {},
   "source": [
    "### Exercise 2\n",
    "\n",
    "Write a Python program to calculate the standard deviation of the following data:\n",
    "\n",
    "```py\n",
    "data = [4, 2, 5, 8, 6]\n",
    "```"
   ]
  },
  {
   "cell_type": "code",
   "execution_count": null,
   "id": "abd37b27",
   "metadata": {},
   "outputs": [],
   "source": []
  },
  {
   "cell_type": "code",
   "execution_count": 3,
   "id": "d590308e",
   "metadata": {},
   "outputs": [
    {
     "data": {
      "text/plain": [
       "2.0"
      ]
     },
     "execution_count": 3,
     "metadata": {},
     "output_type": "execute_result"
    }
   ],
   "source": [
    "\n",
    "data = [4, 2, 5, 8, 6]\n",
    "\n",
    "def desv_std(data):\n",
    "    suma = 0\n",
    "    sumatoria = 0\n",
    "\n",
    "    \n",
    "    for elemento in data:\n",
    "        suma += elemento\n",
    "    media = suma / len(data)\n",
    "\n",
    "    \n",
    "    for elemento in data:\n",
    "        sumatoria += (elemento - media) ** 2\n",
    "    return ((sumatoria / len(data)) ** 0.5)\n",
    "\n",
    "\n",
    "desv_std(data)\n",
    "\n",
    "#Arregle el parentesis del return"
   ]
  }
 ],
 "metadata": {
  "kernelspec": {
   "display_name": "Python 3",
   "language": "python",
   "name": "python3"
  },
  "language_info": {
   "codemirror_mode": {
    "name": "ipython",
    "version": 3
   },
   "file_extension": ".py",
   "mimetype": "text/x-python",
   "name": "python",
   "nbconvert_exporter": "python",
   "pygments_lexer": "ipython3",
   "version": "3.11.4"
  }
 },
 "nbformat": 4,
 "nbformat_minor": 5
}
