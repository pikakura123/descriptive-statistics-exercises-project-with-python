{
 "cells": [
  {
   "cell_type": "markdown",
   "id": "ac622319",
   "metadata": {},
   "source": [
    "# Descriptive statistics problems"
   ]
  },
  {
   "cell_type": "markdown",
   "id": "5e0ab0d5",
   "metadata": {},
   "source": [
    "### Exercise 1\n",
    "\n",
    "We will use NumPy to obtain information to describe statistically.\n",
    "\n",
    "- Generate an array of 100 elements following a normal distribution.\n",
    "- Generate an array of 100 elements following a chi-square distribution with 3 degrees of freedom.\n",
    "- Calculate the main metrics and statistical measures that best describe the two vectors."
   ]
  },
  {
   "cell_type": "code",
   "execution_count": 29,
   "id": "34720ab6",
   "metadata": {},
   "outputs": [
    {
     "name": "stdout",
     "output_type": "stream",
     "text": [
      "[ 1.62398457 -0.6712456   0.29992199  0.31530132 -1.14451902 -0.02546411\n",
      "  0.47498716  0.04343104 -1.10091051  0.59122563  1.94238499 -1.05741488\n",
      "  0.49576926 -0.44381245  0.78167212 -0.02733875  0.55735309  0.32991356\n",
      " -0.51678375 -0.1764746   0.25480464 -0.72769964  0.03613506 -0.98563378\n",
      "  0.69060676  1.82305218  0.82491633  1.03550758  0.1747523  -0.33253779\n",
      " -0.47856771 -0.73624872 -0.81490055  0.84995694 -0.31840159 -0.65000866\n",
      " -0.76728508 -0.67231464 -0.05140651 -0.42025931 -0.20376553  0.88590583\n",
      " -0.02858683  1.35610693  0.43251855 -0.78281628 -0.50552008  0.00664536\n",
      "  2.05040928 -2.25758344  0.53464675 -0.62354263  0.17861536  0.10702055\n",
      " -0.73031861  0.85158111 -1.87880763 -0.36149997 -0.58085273  0.48676607\n",
      "  0.10192118 -0.61561657  0.55411458 -0.33460784 -0.73421047  0.53364248\n",
      "  0.35756363  1.13926768 -0.26874583 -0.87968186 -0.95422938 -0.01891462\n",
      "  0.10718991 -2.08872581 -0.43332753 -0.04970819 -0.06420798 -0.48799684\n",
      " -1.51912854 -1.70753875 -1.12054108 -1.26641781 -1.16446026  0.46822409\n",
      " -0.62878609  1.08406754 -1.96623096  0.09136465 -0.69914338 -0.01159741\n",
      "  0.04803332 -0.31533361  0.8744694   0.28681283  0.84426543  0.49655402\n",
      " -0.06287645  0.49257001  1.22962203 -2.42517566]\n",
      "[3.10006931e+00 6.09064294e+00 8.82161389e-01 5.46822339e-01\n",
      " 9.01027110e+00 1.50022367e+00 3.47435999e-01 1.09998814e+01\n",
      " 3.84034352e+00 3.16431009e+00 9.73982398e-01 1.27929530e-01\n",
      " 3.80314645e+00 2.11689328e-01 6.05377172e+00 8.95894347e-01\n",
      " 6.16997002e+00 6.61888952e-01 1.93925227e+00 8.46949042e+00\n",
      " 4.59912306e-01 3.49004908e+00 1.38094819e+00 1.08410202e+00\n",
      " 6.38848241e+00 2.87731283e+00 3.11677813e+00 3.01805125e+00\n",
      " 2.55209921e+00 8.39938725e+00 1.39568304e+00 6.05327754e+00\n",
      " 3.73138409e+00 1.13454911e+00 1.18010506e+00 3.64662719e+00\n",
      " 2.55724257e+00 3.04472938e+00 1.10125217e+00 4.62747084e-01\n",
      " 2.62912455e+00 6.40871492e+00 3.10917748e+00 8.47000779e-01\n",
      " 5.17974858e+00 2.01940660e+00 3.00098169e+00 1.55715009e+00\n",
      " 4.07380052e+00 2.14803133e+00 3.47882456e+00 4.86365696e+00\n",
      " 4.06316173e+00 3.20997709e+00 2.28978505e+00 1.34179730e+00\n",
      " 1.53518063e+00 9.85803902e+00 4.23280120e+00 1.74465769e+00\n",
      " 2.32162562e+00 8.73541146e-02 2.65053304e+00 2.64735483e+00\n",
      " 2.21033872e+00 7.09421512e+00 2.79500884e+00 9.24160512e-03\n",
      " 2.39863668e+00 4.67257533e+00 1.52604248e+00 2.09448743e+00\n",
      " 4.33571265e+00 2.04669255e+00 2.18205917e+00 3.90517115e-01\n",
      " 6.62553043e+00 2.49296912e+00 1.11105127e+01 2.58646126e+00\n",
      " 2.23289758e+00 1.57522430e+00 4.72295630e+00 3.67848765e+00\n",
      " 7.30312575e-01 5.50205154e-01 2.21085538e+00 1.54673035e+00\n",
      " 7.57210918e-01 1.88794971e+00 2.20474975e+00 1.02380204e+00\n",
      " 2.04177591e-01 9.67240453e-01 5.33833939e-01 1.56099529e+00\n",
      " 4.37997090e-01 2.56172432e+00 2.71290220e+00 4.44270502e+00]\n",
      "-0.11144149248987202 -0.03914750735935508 1.623984565041391 0.7773439425418347 0.8816711079205413\n"
     ]
    }
   ],
   "source": [
    "# TODO\n",
    "\n",
    "import numpy as np\n",
    "from scipy.stats import norm\n",
    "import statistics as stats\n",
    "\n",
    "lista = np.random.normal(size =100)\n",
    "chi_square = np.random.chisquare(df = 3, size = 100)\n",
    "\n",
    "print(lista)\n",
    "print(chi_square)\n",
    "\n",
    "mean= stats.mean(lista)\n",
    "median = stats.median(lista)\n",
    "mode = stats.mode(lista)\n",
    "varianza = stats.variance(lista)\n",
    "desviacion_std = stats.stdev(lista)\n",
    "print(mean, median, mode, varianza, desviacion_std)\n",
    "\n",
    "\n"
   ]
  },
  {
   "cell_type": "markdown",
   "id": "46c70c3d",
   "metadata": {},
   "source": [
    "### Exercise 2\n",
    "\n",
    "Write a Python program to calculate the standard deviation of the following data:\n",
    "\n",
    "```py\n",
    "data = [4, 2, 5, 8, 6]\n",
    "```"
   ]
  },
  {
   "cell_type": "code",
   "execution_count": 33,
   "id": "d590308e",
   "metadata": {},
   "outputs": [
    {
     "data": {
      "text/plain": [
       "2.0"
      ]
     },
     "execution_count": 33,
     "metadata": {},
     "output_type": "execute_result"
    }
   ],
   "source": [
    "\n",
    "\n",
    "data = [4, 2, 5, 8, 6]\n",
    "suma = 0\n",
    "resta_parentesis = 0\n",
    "sumatoria = 0\n",
    "\n",
    "for elementos in data:\n",
    "    suma += elementos\n",
    "media = suma / len(data)\n",
    "\n",
    "for elementos in data:\n",
    "    sumatoria += (elementos - media)**2\n",
    "    \n",
    "\n",
    "desviacion_estandar = (sumatoria/len(data))**0.5\n",
    "desviacion_estandar\n"
   ]
  }
 ],
 "metadata": {
  "kernelspec": {
   "display_name": "Python 3",
   "language": "python",
   "name": "python3"
  },
  "language_info": {
   "codemirror_mode": {
    "name": "ipython",
    "version": 3
   },
   "file_extension": ".py",
   "mimetype": "text/x-python",
   "name": "python",
   "nbconvert_exporter": "python",
   "pygments_lexer": "ipython3",
   "version": "3.11.4"
  }
 },
 "nbformat": 4,
 "nbformat_minor": 5
}
